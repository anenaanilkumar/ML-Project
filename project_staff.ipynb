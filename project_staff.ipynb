{
  "nbformat": 4,
  "nbformat_minor": 0,
  "metadata": {
    "colab": {
      "provenance": [],
      "collapsed_sections": [
        "JrMXXznZ9V-s",
        "DU6VkZeWQzDw",
        "FjkzqZ_klVYo",
        "FA1Q_qm_oced",
        "-xdaR0QY2-cp",
        "YIgcRWmW5yqR"
      ],
      "authorship_tag": "ABX9TyO+9bshhRjw7FBPmOG9qz/p",
      "include_colab_link": true
    },
    "kernelspec": {
      "name": "python3",
      "display_name": "Python 3"
    },
    "language_info": {
      "name": "python"
    }
  },
  "cells": [
    {
      "cell_type": "markdown",
      "metadata": {
        "id": "view-in-github",
        "colab_type": "text"
      },
      "source": [
        "<a href=\"https://colab.research.google.com/github/anenaanilkumar/ML-Project/blob/main/project_staff.ipynb\" target=\"_parent\"><img src=\"https://colab.research.google.com/assets/colab-badge.svg\" alt=\"Open In Colab\"/></a>"
      ]
    },
    {
      "cell_type": "code",
      "source": [
        "import pandas as pd\n",
        "import numpy as np\n",
        "import seaborn as sns\n",
        "import matplotlib.pyplot as plt\n",
        "from scipy.stats import uniform, randint\n",
        "\n",
        "# Preprocessing\n",
        "from sklearn.preprocessing import LabelEncoder, StandardScaler\n",
        "\n",
        "# Model Selection & Resampling\n",
        "from sklearn.model_selection import train_test_split, RandomizedSearchCV\n",
        "from imblearn.over_sampling import SMOTE\n",
        "\n",
        "# Machine Learning Models\n",
        "from sklearn.ensemble import RandomForestClassifier, AdaBoostClassifier\n",
        "from sklearn.tree import DecisionTreeClassifier\n",
        "from sklearn.neighbors import KNeighborsClassifier\n",
        "from sklearn.svm import SVC\n",
        "from sklearn.linear_model import LogisticRegression\n",
        "from sklearn.naive_bayes import GaussianNB\n",
        "from xgboost import XGBClassifier\n",
        "\n",
        "# Evaluation Metrics\n",
        "from sklearn.metrics import accuracy_score, classification_report, confusion_matrix\n"
      ],
      "metadata": {
        "id": "n6-hZbrESmDs"
      },
      "execution_count": null,
      "outputs": []
    },
    {
      "cell_type": "code",
      "source": [
        "df = pd.read_csv('/content/Staff Satisfaction.csv')"
      ],
      "metadata": {
        "id": "bjwsUu8WLGGs"
      },
      "execution_count": null,
      "outputs": []
    },
    {
      "cell_type": "code",
      "execution_count": null,
      "metadata": {
        "id": "Df_cRgUnbvIF"
      },
      "outputs": [],
      "source": [
        "df"
      ]
    },
    {
      "cell_type": "markdown",
      "source": [
        "#**INSPECTION**"
      ],
      "metadata": {
        "id": "JrMXXznZ9V-s"
      }
    },
    {
      "cell_type": "code",
      "execution_count": null,
      "metadata": {
        "id": "vmQRJPbGvsnQ"
      },
      "outputs": [],
      "source": [
        "df.head(10)"
      ]
    },
    {
      "cell_type": "code",
      "execution_count": null,
      "metadata": {
        "id": "hvYpcgUJvvKl"
      },
      "outputs": [],
      "source": [
        "df.tail()"
      ]
    },
    {
      "cell_type": "code",
      "execution_count": null,
      "metadata": {
        "id": "hAlTsNXVv13G"
      },
      "outputs": [],
      "source": [
        "df.columns"
      ]
    },
    {
      "cell_type": "code",
      "execution_count": null,
      "metadata": {
        "id": "eqK2PbLev4LI"
      },
      "outputs": [],
      "source": [
        "df.shape"
      ]
    },
    {
      "cell_type": "code",
      "execution_count": null,
      "metadata": {
        "collapsed": true,
        "id": "cbaIRqWqv-Tx"
      },
      "outputs": [],
      "source": [
        "df.size"
      ]
    },
    {
      "cell_type": "code",
      "execution_count": null,
      "metadata": {
        "id": "Y0e6m1xQwHoI"
      },
      "outputs": [],
      "source": [
        "df.info()"
      ]
    },
    {
      "cell_type": "code",
      "execution_count": null,
      "metadata": {
        "id": "wUiqIZ_Ubyl9"
      },
      "outputs": [],
      "source": [
        "df.isna().sum()"
      ]
    },
    {
      "cell_type": "code",
      "execution_count": null,
      "metadata": {
        "id": "2cQD7myIb5ns"
      },
      "outputs": [],
      "source": [
        "df.duplicated().sum()"
      ]
    },
    {
      "cell_type": "code",
      "source": [
        "df.drop_duplicates(inplace=True)"
      ],
      "metadata": {
        "id": "U1jMC0eVtGLi"
      },
      "execution_count": null,
      "outputs": []
    },
    {
      "cell_type": "code",
      "execution_count": null,
      "metadata": {
        "collapsed": true,
        "id": "Ppa6bqIdugdh"
      },
      "outputs": [],
      "source": [
        "df.describe()"
      ]
    },
    {
      "cell_type": "code",
      "source": [
        "df.dtypes"
      ],
      "metadata": {
        "id": "SGTw3Im_Zy29"
      },
      "execution_count": null,
      "outputs": []
    },
    {
      "cell_type": "code",
      "source": [
        "df.isnull().sum()"
      ],
      "metadata": {
        "id": "45pX00xpLGCT"
      },
      "execution_count": null,
      "outputs": []
    },
    {
      "cell_type": "markdown",
      "source": [
        "# **HANDLING NULL VALUES & CATEGORICAL DATA**"
      ],
      "metadata": {
        "id": "DU6VkZeWQzDw"
      }
    },
    {
      "cell_type": "code",
      "source": [
        "df[\"Promoted in the last 5 years?\"] = df[\"Promoted in the last 5 years?\"].fillna(\"No\")"
      ],
      "metadata": {
        "id": "X480N2syRMJP"
      },
      "execution_count": null,
      "outputs": []
    },
    {
      "cell_type": "code",
      "source": [
        "# Initialize LabelEncoder\n",
        "le_salary = LabelEncoder()\n",
        "le_department = LabelEncoder()\n",
        "le_promotion = LabelEncoder()\n",
        "le_accident = LabelEncoder()\n",
        "\n",
        "\n",
        "# Apply Label Encoding separately\n",
        "df[\"salary\"] = le_salary.fit_transform(df[\"salary\"])\n",
        "df[\"Department\"] = le_department.fit_transform(df[\"Department\"])\n",
        "df[\"Promoted in the last 5 years?\"] = le_promotion.fit_transform(df[\"Promoted in the last 5 years?\"])\n",
        "df[\"Work Accident\"] = le_accident.fit_transform(df[\"Work Accident\"])"
      ],
      "metadata": {
        "id": "hqMb31I2RMG5"
      },
      "execution_count": null,
      "outputs": []
    },
    {
      "cell_type": "code",
      "source": [
        "# Convert \"Date Hired\" to datetime format\n",
        "df[\"Date Hired\"] = pd.to_datetime(df[\"Date Hired\"])\n",
        "\n",
        "# Calculate \"Years Since Hired\"\n",
        "current_year = pd.Timestamp.now().year\n",
        "df[\"Years Since Hired\"] = current_year - df[\"Date Hired\"].dt.year\n",
        "\n",
        "# Drop the original \"Date Hired\" column\n",
        "df.drop(columns=[\"Date Hired\"], inplace=True)"
      ],
      "metadata": {
        "id": "v_jsJ_X0bQ5Q"
      },
      "execution_count": null,
      "outputs": []
    },
    {
      "cell_type": "code",
      "source": [
        "df.head()"
      ],
      "metadata": {
        "id": "0h3mwooobTpn"
      },
      "execution_count": null,
      "outputs": []
    },
    {
      "cell_type": "code",
      "source": [
        "le_left = LabelEncoder()\n",
        "\n",
        "# Apply Label Encoding to \"Left\" column\n",
        "df[\"Left\"] = le_left.fit_transform(df[\"Left\"])"
      ],
      "metadata": {
        "id": "ppeZWsS5ddn2"
      },
      "execution_count": null,
      "outputs": []
    },
    {
      "cell_type": "code",
      "source": [
        "# Compute correlation with 'price'\n",
        "correlation = df.corr(numeric_only=True)['Left']\n",
        "\n",
        "# Print the correlation values\n",
        "print(correlation)"
      ],
      "metadata": {
        "id": "Gce9M8xwd3PV"
      },
      "execution_count": null,
      "outputs": []
    },
    {
      "cell_type": "code",
      "source": [
        "df = df.drop(columns=[\"salary\", \"Department\", \"Number of Projects\", \"Last Evaluation\"])"
      ],
      "metadata": {
        "id": "PSrk1NKvhj5K"
      },
      "execution_count": null,
      "outputs": []
    },
    {
      "cell_type": "markdown",
      "source": [
        "# **VISUALIZATIONS**"
      ],
      "metadata": {
        "id": "Qgnm3ZY2iG9b"
      }
    },
    {
      "cell_type": "markdown",
      "source": [
        "**How Many Employees Left?**"
      ],
      "metadata": {
        "id": "R0K9PJ50iZ4y"
      }
    },
    {
      "cell_type": "markdown",
      "source": [
        " What It Shows:\n",
        "\n",
        "A countplot to visualize how many employees stayed (0) vs. left (1).\n",
        "\n",
        "Uses green for employees who stayed and red for those who left.\n",
        "\n",
        "Helps understand the proportion of employee turnover in the dataset"
      ],
      "metadata": {
        "id": "RGuvjgr3_eCS"
      }
    },
    {
      "cell_type": "code",
      "source": [
        "# Custom colors\n",
        "custom_colors = [\"#4CAF50\", \"#FF5733\"]  # Green for stayed, Red for left\n",
        "\n",
        "sns.countplot(x=df[\"Left\"], palette=custom_colors)\n",
        "plt.title(\"Employee Turnover Count (0 = Stayed, 1 = Left)\")\n",
        "plt.xlabel(\"Left\")\n",
        "plt.ylabel(\"Count\")\n",
        "plt.show()\n"
      ],
      "metadata": {
        "id": "klIACKRMiP0b"
      },
      "execution_count": null,
      "outputs": []
    },
    {
      "cell_type": "markdown",
      "source": [
        "**Work Accidents & Employee Turnover**"
      ],
      "metadata": {
        "id": "RDoxYgtmj-rh"
      }
    },
    {
      "cell_type": "markdown",
      "source": [
        "What It Shows:\n",
        "\n",
        "A countplot grouped by whether an employee had a work accident (0 = No, 1 = Yes).\n",
        "\n",
        "The hue=\"Left\" groups the data by employees who stayed vs. left.\n",
        "\n",
        "Helps determine if work accidents have an effect on employee attrition.\n"
      ],
      "metadata": {
        "id": "9pZe74JU_p6Z"
      }
    },
    {
      "cell_type": "code",
      "source": [
        "sns.countplot(x=df[\"Work Accident\"], hue=df[\"Left\"], palette=\"coolwarm\")\n",
        "plt.title(\"Impact of Work Accidents on Employee Turnover\")\n",
        "plt.xlabel(\"Work Accident (0 = No, 1 = Yes)\")\n",
        "plt.ylabel(\"Count\")\n",
        "plt.legend(title=\"Left (0 = Stayed, 1 = Left)\")\n",
        "plt.show()"
      ],
      "metadata": {
        "id": "vm6d4nh4j81C"
      },
      "execution_count": null,
      "outputs": []
    },
    {
      "cell_type": "markdown",
      "source": [
        "**Average Monthly Hours Distribution**"
      ],
      "metadata": {
        "id": "lYpUa2kNkY1j"
      }
    },
    {
      "cell_type": "markdown",
      "source": [
        "What It Shows:\n",
        "\n",
        "A histogram to visualize the distribution of employees' average monthly working hours.\n",
        "\n",
        "The KDE (Kernel Density Estimate) curve shows the density of working hours.\n",
        "\n",
        "Helps understand if there are any patterns, like overtime or underworking."
      ],
      "metadata": {
        "id": "jgM7el1r_ymh"
      }
    },
    {
      "cell_type": "code",
      "source": [
        "sns.histplot(df[\"Average Monthly Hours\"], bins=30, kde=True, color=\"blue\")\n",
        "plt.title(\"Distribution of Average Monthly Hours\")\n",
        "plt.xlabel(\"Average Monthly Hours\")\n",
        "plt.ylabel(\"Count\")\n",
        "plt.show()"
      ],
      "metadata": {
        "id": "Q_1Qf6HNkSQw"
      },
      "execution_count": null,
      "outputs": []
    },
    {
      "cell_type": "markdown",
      "source": [
        "# **OUT** LAYERS"
      ],
      "metadata": {
        "id": "FjkzqZ_klVYo"
      }
    },
    {
      "cell_type": "code",
      "source": [
        "import pandas as pd\n",
        "import numpy as np\n",
        "\n",
        "# Select numerical columns\n",
        "num_cols = [\"Satisfaction Level\", \"Work Accident\", \"Average Monthly Hours\", \"Years in the Company\", \"Years Since Hired\"]\n",
        "\n",
        "# Compute Q1 (25th percentile) and Q3 (75th percentile)\n",
        "Q1 = df[num_cols].quantile(0.25)\n",
        "Q3 = df[num_cols].quantile(0.75)\n",
        "IQR = Q3 - Q1  # Interquartile range\n",
        "\n",
        "# Define lower and upper bounds\n",
        "lower_bound = Q1 - 1.5 * IQR\n",
        "upper_bound = Q3 + 1.5 * IQR\n",
        "\n",
        "# Identify outliers\n",
        "outliers = ((df[num_cols] < lower_bound) | (df[num_cols] > upper_bound))\n",
        "\n",
        "# Print the number of outliers in each column\n",
        "print(\"Number of outliers in each column:\\n\", outliers.sum())\n",
        "\n",
        "# Optionally, remove or cap outliers\n",
        "df[num_cols] = df[num_cols].clip(lower=lower_bound, upper=upper_bound, axis=1)\n"
      ],
      "metadata": {
        "id": "GHD8Rm5MvHk6"
      },
      "execution_count": null,
      "outputs": []
    },
    {
      "cell_type": "code",
      "source": [
        "# Select numerical columns that might have outliers\n",
        "num_cols = [\"Satisfaction Level\", \"Work Accident\", \"Average Monthly Hours\", \"Years in the Company\", \"Years Since Hired\"]\n",
        "\n",
        "# Compute the lower (5th percentile) and upper (95th percentile) bounds\n",
        "lower_bound = df[num_cols].quantile(0.05)\n",
        "upper_bound = df[num_cols].quantile(0.95)\n",
        "\n",
        "# Apply clipping to cap outliers within the range\n",
        "df[num_cols] = df[num_cols].clip(lower=lower_bound, upper=upper_bound,axis=1)\n",
        "\n",
        "# Print dataset shape to confirm no rows were removed\n",
        "print(\"After capping, dataset shape:\", df.shape)"
      ],
      "metadata": {
        "id": "t1Bj0UX_mXMm"
      },
      "execution_count": null,
      "outputs": []
    },
    {
      "cell_type": "code",
      "source": [
        "# Set style\n",
        "sns.set_style(\"whitegrid\")\n",
        "\n",
        "# Define numerical columns\n",
        "num_cols = [\"Satisfaction Level\", \"Work Accident\", \"Average Monthly Hours\", \"Years in the Company\", \"Years Since Hired\"]\n",
        "\n",
        "# Create histograms\n",
        "plt.figure(figsize=(12, 8))\n",
        "for i, col in enumerate(num_cols, 1):\n",
        "    plt.subplot(2, 3, i)\n",
        "    sns.histplot(df[col], bins=30, kde=True, color=\"blue\")\n",
        "    plt.title(f\"Distribution of {col}\")\n",
        "\n",
        "plt.tight_layout()\n",
        "plt.show()"
      ],
      "metadata": {
        "id": "gFK3sQwZoIVW"
      },
      "execution_count": null,
      "outputs": []
    },
    {
      "cell_type": "markdown",
      "source": [
        "# **TRAIN - TEST SPLIT**"
      ],
      "metadata": {
        "id": "FA1Q_qm_oced"
      }
    },
    {
      "cell_type": "code",
      "source": [
        "# Define features (X) and target variable (y)\n",
        "x=df.drop('Left',axis=1) # Drop the target column\n",
        "y = df[\"Left\"]  # Target column (employee attrition)"
      ],
      "metadata": {
        "id": "DCT-htWUol6l"
      },
      "execution_count": null,
      "outputs": []
    },
    {
      "cell_type": "code",
      "source": [
        "sd=StandardScaler()\n",
        "sd.fit(x)\n",
        "x=sd.transform(x)"
      ],
      "metadata": {
        "id": "bdeOSb-6RwoJ"
      },
      "execution_count": null,
      "outputs": []
    },
    {
      "cell_type": "code",
      "source": [
        "y.value_counts()"
      ],
      "metadata": {
        "id": "FrtHkLOmRwmM"
      },
      "execution_count": null,
      "outputs": []
    },
    {
      "cell_type": "code",
      "source": [
        "xtrain,xtest,ytrain,ytest=train_test_split(x,y,test_size=0.2,random_state =42,stratify=y)"
      ],
      "metadata": {
        "id": "WoZ15f74RwhE"
      },
      "execution_count": null,
      "outputs": []
    },
    {
      "cell_type": "code",
      "source": [
        "ytrain.value_counts()"
      ],
      "metadata": {
        "id": "dpHUunR0R1Sp"
      },
      "execution_count": null,
      "outputs": []
    },
    {
      "cell_type": "code",
      "source": [
        "from imblearn.over_sampling import SMOTE\n",
        "sm=SMOTE()\n",
        "xres,yres=sm.fit_resample(xtrain,ytrain)"
      ],
      "metadata": {
        "id": "tWM6LM6vR1Qc"
      },
      "execution_count": null,
      "outputs": []
    },
    {
      "cell_type": "code",
      "source": [
        "yres.value_counts()"
      ],
      "metadata": {
        "id": "YIku_xKKR1N7"
      },
      "execution_count": null,
      "outputs": []
    },
    {
      "cell_type": "markdown",
      "source": [
        "# **MODEL BUILDING**"
      ],
      "metadata": {
        "id": "R8TLUixstJnb"
      }
    },
    {
      "cell_type": "markdown",
      "source": [
        "\n",
        "\n",
        "---\n",
        "\n",
        "\n",
        "\n",
        "# **KNN**\n",
        "\n",
        "---\n",
        "\n"
      ],
      "metadata": {
        "id": "bVEnP2g-vak_"
      }
    },
    {
      "cell_type": "markdown",
      "source": [
        "**BEFORE SMOTE**"
      ],
      "metadata": {
        "id": "Ykazt1_wvr5Z"
      }
    },
    {
      "cell_type": "code",
      "source": [
        "knn=KNeighborsClassifier()\n",
        "knn.fit(xtrain,ytrain)\n",
        "\n",
        "ypred=knn.predict(xtest)\n",
        "\n",
        "acc=accuracy_score(ytest,ypred)\n",
        "print(acc)\n",
        "cn=confusion_matrix(ytest,ypred)\n",
        "print(cn)\n",
        "cr=classification_report(ytest,ypred)\n",
        "print(cr)\n"
      ],
      "metadata": {
        "id": "Np5PnyljtOZq"
      },
      "execution_count": null,
      "outputs": []
    },
    {
      "cell_type": "code",
      "source": [
        "training_score=knn.score(xtrain,ytrain)\n",
        "print(training_score)"
      ],
      "metadata": {
        "id": "Usy_S2r3u5UZ"
      },
      "execution_count": null,
      "outputs": []
    },
    {
      "cell_type": "code",
      "source": [
        "testing_score=knn.score(xtest,ytest)\n",
        "print(testing_score)"
      ],
      "metadata": {
        "id": "lI4x9L3uu8rh"
      },
      "execution_count": null,
      "outputs": []
    },
    {
      "cell_type": "markdown",
      "source": [
        "**AFTER SMOTE**"
      ],
      "metadata": {
        "id": "vUks2wXUv1nx"
      }
    },
    {
      "cell_type": "code",
      "source": [
        "knnsm = KNeighborsClassifier()\n",
        "knnsm.fit(xres, yres)\n",
        "\n",
        "ypredsm = knnsm.predict(xtest)\n",
        "\n",
        "acc = accuracy_score(ytest, ypredsm)\n",
        "print(acc)\n",
        "\n",
        "cn = confusion_matrix(ytest, ypredsm)\n",
        "print(cn)\n",
        "\n",
        "cr = classification_report(ytest, ypredsm)\n",
        "print(cr)"
      ],
      "metadata": {
        "id": "wthWnoJdv4rI"
      },
      "execution_count": null,
      "outputs": []
    },
    {
      "cell_type": "code",
      "source": [
        "training_score=knnsm.score(xres,yres)\n",
        "print(training_score)"
      ],
      "metadata": {
        "id": "MQUKuGyHwl1R"
      },
      "execution_count": null,
      "outputs": []
    },
    {
      "cell_type": "code",
      "source": [
        "testing_score=knnsm.score(xtest,ytest)\n",
        "print(testing_score)"
      ],
      "metadata": {
        "id": "cyDI5QobwoiA"
      },
      "execution_count": null,
      "outputs": []
    },
    {
      "cell_type": "markdown",
      "source": [
        "**HYPER TUNING**"
      ],
      "metadata": {
        "id": "yk5uB6IGwucm"
      }
    },
    {
      "cell_type": "code",
      "source": [
        "help(knn)"
      ],
      "metadata": {
        "collapsed": true,
        "id": "ddy_XjTpwsfG"
      },
      "execution_count": null,
      "outputs": []
    },
    {
      "cell_type": "code",
      "source": [
        "# Initialize KNN classifier\n",
        "knn1 = KNeighborsClassifier()\n",
        "\n",
        "# Define hyperparameter distribution\n",
        "param_dist = {\n",
        "    'n_neighbors': range(1, 30, 2),  # Odd numbers between 1 and 29\n",
        "    'metric': ['euclidean', 'manhattan', 'minkowski'],\n",
        "    'weights': ['uniform', 'distance']\n",
        "}\n",
        "\n",
        "# Perform Randomized Search\n",
        "random_search = RandomizedSearchCV(knn1, param_dist, n_iter=10, cv=5, scoring='accuracy', n_jobs=-1, random_state=42)\n",
        "random_search.fit(xtrain, ytrain)\n",
        "\n",
        "# Best Hyperparameters\n",
        "print(\"Best Hyperparameters:\", random_search.best_params_)\n",
        "print(random_search.score(xtest,ytest))\n"
      ],
      "metadata": {
        "id": "a2zq044GyYv-"
      },
      "execution_count": null,
      "outputs": []
    },
    {
      "cell_type": "markdown",
      "source": [
        "**Best Hyperparameters**\n",
        "\n",
        "\n",
        "\n"
      ],
      "metadata": {
        "id": "LpcFmIwy0QQd"
      }
    },
    {
      "cell_type": "code",
      "source": [
        "from sklearn.neighbors import KNeighborsClassifier\n",
        "from sklearn.metrics import accuracy_score, confusion_matrix, classification_report\n",
        "\n",
        "# Initialize KNN classifier with best hyperparameters\n",
        "knn_hy = KNeighborsClassifier(metric='manhattan', n_neighbors=9, weights='distance')"
      ],
      "metadata": {
        "id": "bXDE-Qg7zt98"
      },
      "execution_count": null,
      "outputs": []
    },
    {
      "cell_type": "code",
      "source": [
        "# Train the model on SMOTE-processed data\n",
        "knn_hy.fit(xres, yres)  # Using xres and yres after SMOTE\n",
        "\n",
        "# Predict on test data\n",
        "ypred_hy = knn_hy.predict(xtest)\n",
        "\n",
        "# Accuracy score\n",
        "acc_hy = accuracy_score(ytest, ypred_hy)\n",
        "print(acc_hy)\n",
        "\n",
        "# Classification report\n",
        "cr_hy = classification_report(ytest, ypred_hy)\n",
        "print(cr_hy)"
      ],
      "metadata": {
        "id": "ssy4WbsEz_jN"
      },
      "execution_count": null,
      "outputs": []
    },
    {
      "cell_type": "code",
      "source": [
        "training_score=knn_hy.score(xtrain,ytrain)\n",
        "print(training_score)"
      ],
      "metadata": {
        "id": "4yctbcFw0s31"
      },
      "execution_count": null,
      "outputs": []
    },
    {
      "cell_type": "code",
      "source": [
        "testing_score=knn_hy.score(xtest,ytest)\n",
        "print(testing_score)"
      ],
      "metadata": {
        "id": "OhPB2vdM0unV"
      },
      "execution_count": null,
      "outputs": []
    },
    {
      "cell_type": "markdown",
      "source": [
        "\n",
        "\n",
        "---\n",
        "\n",
        "# **RANDOM FOREST**  \n",
        "\n",
        "\n",
        "---\n",
        "\n"
      ],
      "metadata": {
        "id": "HqZlucRl0y9s"
      }
    },
    {
      "cell_type": "markdown",
      "source": [
        "**BEFORE SMOTE**"
      ],
      "metadata": {
        "id": "N3Od1zFL09BF"
      }
    },
    {
      "cell_type": "code",
      "source": [
        "# Random Forest on original training data\n",
        "rf = RandomForestClassifier(n_estimators=100, random_state=42)\n",
        "rf.fit(xtrain, ytrain)\n",
        "\n",
        "ypred_rand = rf.predict(xtest)\n",
        "\n",
        "acc_rand = accuracy_score(ytest, ypred_rand)\n",
        "print(acc_rand)\n",
        "\n",
        "cn_rand = confusion_matrix(ytest, ypred_rand)\n",
        "print(cn_rand)\n",
        "\n",
        "cr_rand = classification_report(ytest, ypred_rand)\n",
        "print(cr_rand)\n"
      ],
      "metadata": {
        "id": "p4wY2MT41BWE"
      },
      "execution_count": null,
      "outputs": []
    },
    {
      "cell_type": "code",
      "source": [
        "training_score=rf.score(xtrain,ytrain)\n",
        "print(training_score)"
      ],
      "metadata": {
        "id": "ds0TlGfxj-X3"
      },
      "execution_count": null,
      "outputs": []
    },
    {
      "cell_type": "code",
      "source": [
        "testing_score=rf.score(xtest,ytest)\n",
        "print(testing_score)"
      ],
      "metadata": {
        "id": "hWmLTwGOkHCi"
      },
      "execution_count": null,
      "outputs": []
    },
    {
      "cell_type": "markdown",
      "source": [
        "**AFTER SMOTE**"
      ],
      "metadata": {
        "id": "aCFO3-2E1imk"
      }
    },
    {
      "cell_type": "code",
      "source": [
        "# Random Forest on SMOTE-applied data\n",
        "rfa = RandomForestClassifier(n_estimators=100, random_state=42)\n",
        "rfa.fit(xres, yres)  # Training on SMOTE data\n",
        "\n",
        "ypred_r = rfa.predict(xtest)\n",
        "\n",
        "acc_rand1 = accuracy_score(ytest, ypred_r)\n",
        "print(acc_rand1)\n",
        "\n",
        "cn_rand1 = confusion_matrix(ytest, ypred_r)\n",
        "print(cn_rand1)\n",
        "\n",
        "cr_rand1 = classification_report(ytest, ypred_r)\n",
        "print(cr_rand1)"
      ],
      "metadata": {
        "id": "rv2A9cJs1lWk"
      },
      "execution_count": null,
      "outputs": []
    },
    {
      "cell_type": "code",
      "source": [
        "training_score=rfa.score(xres,yres)\n",
        "print(training_score)"
      ],
      "metadata": {
        "id": "x1sRn0j41lUM"
      },
      "execution_count": null,
      "outputs": []
    },
    {
      "cell_type": "code",
      "source": [
        "testing_score=rfa.score(xtest,ytest)\n",
        "print(testing_score)"
      ],
      "metadata": {
        "id": "o1ZRMnk12bKS"
      },
      "execution_count": null,
      "outputs": []
    },
    {
      "cell_type": "markdown",
      "source": [
        "\n",
        "\n",
        "---\n",
        "\n",
        "\n",
        "\n",
        "# **RANDOM SEARCH CV**\n",
        "\n",
        "---\n",
        "\n"
      ],
      "metadata": {
        "id": "-xdaR0QY2-cp"
      }
    },
    {
      "cell_type": "markdown",
      "source": [
        "**BEFORE SMOTING**"
      ],
      "metadata": {
        "id": "HJTVh7yo4l7K"
      }
    },
    {
      "cell_type": "code",
      "source": [
        "# Initialize Random Forest Classifier\n",
        "rf1 = RandomForestClassifier(random_state=42)\n",
        "\n",
        "# Define Hyperparameter Distribution\n",
        "param_dist = {\n",
        "    \"n_estimators\": [50, 100, 200, 300],\n",
        "    \"max_depth\": [10, 20, 30, None],\n",
        "    \"min_samples_split\": [2, 5, 10],\n",
        "    \"min_samples_leaf\": [1, 2, 4],\n",
        "    \"max_features\": [\"sqrt\", \"log2\", None],\n",
        "    \"bootstrap\": [True, False],\n",
        "}\n",
        "\n",
        "# Perform Randomized Search\n",
        "random_s = RandomizedSearchCV(\n",
        "    rf1, param_distributions=param_dist,\n",
        "    n_iter=10, cv=3, scoring=\"accuracy\",\n",
        "    n_jobs=-1, verbose=2, random_state=42\n",
        ")\n",
        "\n",
        "random_s.fit(xtrain, ytrain)\n",
        "\n",
        "# Best Hyperparameters\n",
        "print(\"Best Hyperparameters:\", random_s.best_params_)\n",
        "print(\"Best Score:\", random_s.best_score_)"
      ],
      "metadata": {
        "id": "u7GynC5S3JJK"
      },
      "execution_count": null,
      "outputs": []
    },
    {
      "cell_type": "code",
      "source": [
        "# Train Random Forest with Best Hyperparameters\n",
        "rd_hy = RandomForestClassifier(n_estimators=100, min_samples_split=5, min_samples_leaf=2,max_features='log2', max_depth=20, bootstrap=False, random_state=42)\n"
      ],
      "metadata": {
        "id": "PcVzlV3P3Unp"
      },
      "execution_count": null,
      "outputs": []
    },
    {
      "cell_type": "code",
      "source": [
        "rd_hy.fit(xtrain, ytrain)\n",
        "\n",
        "# Predictions and Evaluation\n",
        "ypred_rd = rd_hy.predict(xtest)\n",
        "\n",
        "acc_hy = accuracy_score(ytest, ypred_rd)\n",
        "print(acc_hy)\n",
        "\n",
        "cr_rd = classification_report(ytest, ypred_rd)\n",
        "print(cr_rd)\n",
        "\n",
        "cn_rd = confusion_matrix(ytest, ypred_rd)\n",
        "print(cn_rd)"
      ],
      "metadata": {
        "id": "OtsG7MXs3wcp"
      },
      "execution_count": null,
      "outputs": []
    },
    {
      "cell_type": "code",
      "source": [
        "# Training and Testing Scores\n",
        "training_score = rd_hy.score(xtrain, ytrain)\n",
        "print(training_score)\n",
        "\n",
        "testing_score = rd_hy.score(xtest, ytest)\n",
        "print(testing_score)"
      ],
      "metadata": {
        "id": "qtVmaoXE378I"
      },
      "execution_count": null,
      "outputs": []
    },
    {
      "cell_type": "code",
      "source": [
        "from sklearn.model_selection import cross_val_score\n",
        "\n",
        "cv_scores = cross_val_score(rd_hy, xtrain, ytrain, cv=5, scoring='accuracy')\n",
        "print(\"Cross-validation scores:\", cv_scores)\n",
        "print(\"Mean CV Score:\", cv_scores.mean())"
      ],
      "metadata": {
        "id": "UQOlb9n-5f2p"
      },
      "execution_count": null,
      "outputs": []
    },
    {
      "cell_type": "markdown",
      "source": [
        "**AFTER SMOTE**"
      ],
      "metadata": {
        "id": "7R91YXPz5Elz"
      }
    },
    {
      "cell_type": "code",
      "source": [
        "# Initialize Random Forest Classifier\n",
        "rf11 = RandomForestClassifier(random_state=42)\n",
        "\n",
        "# Define Hyperparameter Distribution\n",
        "param_dist = {\n",
        "    \"n_estimators\": [50, 100, 200, 300],\n",
        "    \"max_depth\": [10, 20, 30, None],\n",
        "    \"min_samples_split\": [2, 5, 10],\n",
        "    \"min_samples_leaf\": [1, 2, 4],\n",
        "    \"max_features\": [\"sqrt\", \"log2\", None],\n",
        "    \"bootstrap\": [True, False],\n",
        "}\n",
        "\n",
        "# Perform Randomized Search\n",
        "random_ss = RandomizedSearchCV(\n",
        "    rf11, param_distributions=param_dist,\n",
        "    n_iter=10, cv=3, scoring=\"accuracy\",\n",
        "    n_jobs=-1, verbose=1, random_state=42\n",
        ")\n",
        "\n",
        "random_ss.fit(xres, yres)\n",
        "\n",
        "# Best Hyperparameters\n",
        "print(\"Best Hyperparameters:\", random_ss.best_params_)\n",
        "print(\"Best Score:\", random_ss.best_score_)"
      ],
      "metadata": {
        "id": "7RaaePKd42fQ"
      },
      "execution_count": null,
      "outputs": []
    },
    {
      "cell_type": "code",
      "source": [
        "# Train Random Forest with Best Hyperparameters\n",
        "rd_hyy = RandomForestClassifier(\n",
        "    n_estimators=100, min_samples_split=5, min_samples_leaf=2,\n",
        "    max_features='log2', max_depth=20, bootstrap=False, random_state=42\n",
        ")"
      ],
      "metadata": {
        "id": "N0pT9c3B42dL"
      },
      "execution_count": null,
      "outputs": []
    },
    {
      "cell_type": "code",
      "source": [
        "rd_hyy.fit(xres, yres)\n",
        "\n",
        "# Predictions and Evaluation\n",
        "ypred_rdd = rd_hyy.predict(xtest)\n",
        "\n",
        "acc_hy = accuracy_score(ytest, ypred_rdd)\n",
        "print(acc_hy)\n",
        "\n",
        "cr_rd = classification_report(ytest, ypred_rdd)\n",
        "print(cr_rd)"
      ],
      "metadata": {
        "id": "Mgg_dKjI42ag"
      },
      "execution_count": null,
      "outputs": []
    },
    {
      "cell_type": "code",
      "source": [
        "# Training and Testing Scores\n",
        "training_score = rd_hyy.score(xres, yres)\n",
        "print(training_score)\n",
        "\n",
        "testing_score = rd_hyy.score(xtest, ytest)\n",
        "print(testing_score)"
      ],
      "metadata": {
        "id": "-yMRun1M42Xp"
      },
      "execution_count": null,
      "outputs": []
    },
    {
      "cell_type": "code",
      "source": [
        "from sklearn.model_selection import cross_val_score\n",
        "\n",
        "cv_scores = cross_val_score(rd_hyy, xres, yres, cv=5, scoring='accuracy')\n",
        "print(\"Cross-validation scores:\", cv_scores)\n",
        "print(\"Mean CV Score:\", cv_scores.mean())"
      ],
      "metadata": {
        "id": "IucdSQzN42KK"
      },
      "execution_count": null,
      "outputs": []
    },
    {
      "cell_type": "markdown",
      "source": [
        "\n",
        "---\n",
        "\n",
        "# **SVM**\n",
        "\n",
        "---\n",
        "\n"
      ],
      "metadata": {
        "id": "YIgcRWmW5yqR"
      }
    },
    {
      "cell_type": "markdown",
      "source": [
        "**BEFORE SMOTING**"
      ],
      "metadata": {
        "id": "B-sRR23355Gh"
      }
    },
    {
      "cell_type": "code",
      "source": [
        "# Initialize SVM model with RBF kernel\n",
        "svm_model = SVC(kernel='rbf', C=1.0, gamma='scale')\n",
        "svm_model.fit(xtrain, ytrain)\n",
        "\n",
        "# Predict on test data\n",
        "svm_preds = svm_model.predict(xtest)\n",
        "\n",
        "# Evaluate model performance\n",
        "svm_acc = accuracy_score(ytest, svm_preds)\n",
        "svm_classification_report = classification_report(ytest, svm_preds)\n",
        "svm_confusion_matrix = confusion_matrix(ytest, svm_preds)\n",
        "\n",
        "# Print evaluation metrics\n",
        "print(\"SVM Accuracy:\", svm_acc)\n",
        "print(\"SVM Classification Report:\\n\", svm_classification_report)\n",
        "print(\"SVM Confusion Matrix:\\n\", svm_confusion_matrix)"
      ],
      "metadata": {
        "id": "jIsfpvBP5--J"
      },
      "execution_count": null,
      "outputs": []
    },
    {
      "cell_type": "markdown",
      "source": [
        "**AFTER SMOTING**"
      ],
      "metadata": {
        "id": "MsXl4kXT6jvr"
      }
    },
    {
      "cell_type": "code",
      "source": [
        "# Initialize SVM model with RBF kernel\n",
        "svm_smo = SVC(kernel='rbf', C=1.0, gamma='scale')\n",
        "svm_smo.fit(xres, yres)  # Training on resampled data\n",
        "\n",
        "# Predict on test data\n",
        "svm_preds_sm = svm_smo.predict(xtest)\n",
        "\n",
        "# Evaluate model performance\n",
        "acc_svm = accuracy_score(ytest, svm_preds_sm)\n",
        "classification_report_svm = classification_report(ytest, svm_preds_sm)\n",
        "confusion_matrix_svm = confusion_matrix(ytest, svm_preds_sm)\n",
        "\n",
        "# Print evaluation metrics\n",
        "print(\"SVM Accuracy:\", acc_svm)\n",
        "print(\"SVM Classification Report:\\n\", classification_report_svm)\n",
        "print(\"SVM Confusion Matrix:\\n\", confusion_matrix_svm)"
      ],
      "metadata": {
        "id": "wDP1aWcm6ja4"
      },
      "execution_count": null,
      "outputs": []
    },
    {
      "cell_type": "markdown",
      "source": [
        "**HYPER TUNING**"
      ],
      "metadata": {
        "id": "JYvbMWwb6xcH"
      }
    },
    {
      "cell_type": "code",
      "source": [
        "# Initialize SVM model\n",
        "svm = SVC()\n",
        "\n",
        "# Define hyperparameter distribution\n",
        "param_dist = {\n",
        "    \"C\": uniform(0.01, 10),\n",
        "    \"kernel\": [\"linear\", \"rbf\", \"poly\", \"sigmoid\"],\n",
        "    \"gamma\": [\"scale\", \"auto\"],\n",
        "    \"degree\": randint(2, 5)\n",
        "}\n",
        "\n",
        "# Perform Randomized Search\n",
        "random_search3 = RandomizedSearchCV(svm, param_dist, cv=5, scoring=\"accuracy\", random_state=42)\n",
        "random_search3.fit(xtrain, ytrain)\n",
        "\n",
        "# Print best hyperparameters\n",
        "print(random_search3.best_params_)"
      ],
      "metadata": {
        "id": "wHnPzLM07QXm"
      },
      "execution_count": null,
      "outputs": []
    },
    {
      "cell_type": "code",
      "source": [
        "svm_hy=SVC()\n",
        "\n",
        "svm_hy.fit(xtrain,ytrain)\n",
        "\n",
        "ypre=svm_hy.predict(xtest)\n",
        "\n",
        "acc_hy=accuracy_score(ytest,ypre)\n",
        "print(acc_hy)\n",
        "\n",
        "cr_hy=classification_report(ytest,ypre)\n",
        "print(cr_hy)"
      ],
      "metadata": {
        "id": "ckd6rerU7dgH"
      },
      "execution_count": null,
      "outputs": []
    },
    {
      "cell_type": "markdown",
      "source": [
        "\n",
        "\n",
        "---\n",
        "\n",
        "# **LOGISTIC REGRESSION**\n",
        "\n",
        "---\n",
        "\n"
      ],
      "metadata": {
        "id": "cegsz4uu7nm9"
      }
    },
    {
      "cell_type": "markdown",
      "source": [
        "**BEFORE SMOTE**"
      ],
      "metadata": {
        "id": "VbWKxxe68IGt"
      }
    },
    {
      "cell_type": "code",
      "source": [
        "# Logistic Regression without SMOTE\n",
        "log_reg_model = LogisticRegression()\n",
        "log_reg_model.fit(xtrain, ytrain)\n",
        "\n",
        "log_reg_preds = log_reg_model.predict(xtest)\n",
        "\n",
        "log_reg_acc = accuracy_score(ytest, log_reg_preds)\n",
        "log_reg_classification_report = classification_report(ytest, log_reg_preds)\n",
        "log_reg_confusion_matrix = confusion_matrix(ytest, log_reg_preds)\n",
        "\n",
        "print(\"Logistic Regression Accuracy:\", log_reg_acc)\n",
        "print(\"Logistic Regression Classification Report:\\n\", log_reg_classification_report)\n",
        "print(\"Logistic Regression Confusion Matrix:\\n\", log_reg_confusion_matrix)"
      ],
      "metadata": {
        "id": "539v4n6o7vhu"
      },
      "execution_count": null,
      "outputs": []
    },
    {
      "cell_type": "code",
      "source": [
        "training_score = log_reg_model.score(xtrain, ytrain)\n",
        "print(training_score)\n",
        "testing_score = log_reg_model.score(xtest, ytest)\n",
        "print(testing_score)"
      ],
      "metadata": {
        "id": "sdaj2hp878o6"
      },
      "execution_count": null,
      "outputs": []
    },
    {
      "cell_type": "markdown",
      "source": [
        "**AFTER SMOTE**"
      ],
      "metadata": {
        "id": "8eiDmOWk8PeR"
      }
    },
    {
      "cell_type": "code",
      "source": [
        "# Logistic Regression with SMOTE\n",
        "log_reg_sm = LogisticRegression()\n",
        "log_reg_sm.fit(xres, yres)\n",
        "\n",
        "log_pred = log_reg_sm.predict(xtest)\n",
        "\n",
        "reg_acc = accuracy_score(ytest, log_pred)\n",
        "reg_classification_report = classification_report(ytest, log_pred)\n",
        "reg_confusion_matrix = confusion_matrix(ytest, log_pred)\n",
        "\n",
        "print(\"Logistic Regression Accuracy:\", reg_acc)\n",
        "print(\"Logistic Regression Classification Report:\\n\", reg_classification_report)\n",
        "print(\"Logistic Regression Confusion Matrix:\\n\", reg_confusion_matrix)"
      ],
      "metadata": {
        "id": "dNxxw2Kt8D2F"
      },
      "execution_count": null,
      "outputs": []
    },
    {
      "cell_type": "code",
      "source": [
        "training_score = log_reg_sm.score(xres, yres)\n",
        "print(training_score)\n",
        "testing_score = log_reg_sm.score(xtest, ytest)\n",
        "print(testing_score)"
      ],
      "metadata": {
        "id": "iGkzVOt28F_H"
      },
      "execution_count": null,
      "outputs": []
    },
    {
      "cell_type": "markdown",
      "source": [
        "**HYPER TUNING**"
      ],
      "metadata": {
        "id": "0KwVxm708ffF"
      }
    },
    {
      "cell_type": "code",
      "source": [
        "# Define the Logistic Regression model\n",
        "log_reg = LogisticRegression(max_iter=1000)\n",
        "\n",
        "# Define the hyperparameter search space\n",
        "param_dist = {\n",
        "    'C': uniform(0.01, 10),\n",
        "    'penalty': ['l1', 'l2', 'elasticnet', None],\n",
        "    'solver': ['liblinear', 'saga'],\n",
        "}\n",
        "\n",
        "# Perform Randomized Search\n",
        "random_searchl = RandomizedSearchCV(\n",
        "    log_reg, param_distributions=param_dist,\n",
        "    n_iter=20, scoring='accuracy',\n",
        "    cv=5, random_state=42, n_jobs=-1\n",
        ")\n",
        "random_searchl.fit(xtrain, ytrain)\n",
        "\n",
        "# Print best parameters and best accuracy score\n",
        "print(\"Best Parameters:\", random_searchl.best_params_)\n",
        "print(\"Best Accuracy:\", random_searchl.best_score_)\n",
        "\n",
        "\n",
        "\n"
      ],
      "metadata": {
        "collapsed": true,
        "id": "GsqSfdUS8011"
      },
      "execution_count": null,
      "outputs": []
    },
    {
      "cell_type": "code",
      "source": [
        "# Train Logistic Regression model with best hyperparameters\n",
        "log_reg_hy = LogisticRegression(C=8.334426408004218, penalty='l2', solver='saga', max_iter=1000)"
      ],
      "metadata": {
        "id": "OUPUBqtS9DOf"
      },
      "execution_count": null,
      "outputs": []
    },
    {
      "cell_type": "code",
      "source": [
        "log_reg_hy.fit(xtrain, ytrain)# Predict on test set\n",
        "\n",
        "ypred_a = log_reg_hy.predict(xtest)\n",
        "\n",
        "# Evaluate model\n",
        "acc_hy = accuracy_score(ytest, ypred_a)\n",
        "print(acc_hy)\n",
        "\n",
        "cr_hy = classification_report(ytest, ypred_a)\n",
        "print(cr_hy)"
      ],
      "metadata": {
        "id": "WQbFJP5Z9KZF"
      },
      "execution_count": null,
      "outputs": []
    },
    {
      "cell_type": "code",
      "source": [
        "# Training and Testing Scores\n",
        "training_score = log_reg_hy.score(xtrain, ytrain)\n",
        "print(training_score)\n",
        "testing_score = log_reg_hy.score(xtest, ytest)\n",
        "print(testing_score)"
      ],
      "metadata": {
        "id": "ffIB1SMb8-_3"
      },
      "execution_count": null,
      "outputs": []
    },
    {
      "cell_type": "markdown",
      "source": [
        "\n",
        "\n",
        "---\n",
        "\n",
        "# **NAIVE BAYES**\n",
        "\n",
        "---\n",
        "\n"
      ],
      "metadata": {
        "id": "Djs8tng694fn"
      }
    },
    {
      "cell_type": "markdown",
      "source": [
        "**BEFORE SMOTE**"
      ],
      "metadata": {
        "id": "wpwnQTrX-HqH"
      }
    },
    {
      "cell_type": "code",
      "source": [
        "# Train Gaussian Naïve Bayes model\n",
        "nb_model = GaussianNB()\n",
        "nb_model.fit(xtrain, ytrain)\n",
        "\n",
        "# Predictions\n",
        "nb_preds = nb_model.predict(xtest)\n",
        "\n",
        "# Evaluation\n",
        "nb_acc = accuracy_score(ytest, nb_preds)\n",
        "nb_classification_report = classification_report(ytest, nb_preds)\n",
        "nb_confusion_matrix = confusion_matrix(ytest, nb_preds)\n",
        "\n",
        "print(\"Naive Bayes Accuracy:\", nb_acc)\n",
        "print(\"Naive Bayes Classification Report:\\n\", nb_classification_report)\n",
        "print(\"Naive Bayes Confusion Matrix:\\n\", nb_confusion_matrix)"
      ],
      "metadata": {
        "id": "nM289Iyp-VsG"
      },
      "execution_count": null,
      "outputs": []
    },
    {
      "cell_type": "code",
      "source": [
        "# Training & Testing Scores\n",
        "training_score = nb_model.score(xtrain, ytrain)\n",
        "print(training_score)\n",
        "testing_score = nb_model.score(xtest, ytest)\n",
        "print(testing_score)"
      ],
      "metadata": {
        "id": "ftooL4ci-7wz"
      },
      "execution_count": null,
      "outputs": []
    },
    {
      "cell_type": "code",
      "source": [
        "df.columns"
      ],
      "metadata": {
        "id": "GX2mWnVP391n"
      },
      "execution_count": null,
      "outputs": []
    },
    {
      "cell_type": "markdown",
      "source": [
        "**AFTER SMOTE**"
      ],
      "metadata": {
        "id": "B-L6jhiB-S-t"
      }
    },
    {
      "cell_type": "code",
      "source": [
        "# ====== TRAINING WITH SMOTING ======\n",
        "nb_smo = GaussianNB()\n",
        "nb_smo.fit(xres, yres)\n",
        "\n",
        "# Predictions\n",
        "nb_preds_sm = nb_smo.predict(xtest)\n",
        "\n",
        "# Evaluation\n",
        "acc_nb = accuracy_score(ytest, nb_preds_sm)\n",
        "classification_report_nb = classification_report(ytest, nb_preds_sm)\n",
        "confusion_matrix_nb = confusion_matrix(ytest, nb_preds_sm)\n",
        "\n",
        "print(\"Naive Bayes Accuracy:\", acc_nb)\n",
        "print(\"Naive Bayes Classification Report:\\n\", classification_report_nb)\n",
        "print(\"Naive Bayes Confusion Matrix:\\n\", confusion_matrix_nb)"
      ],
      "metadata": {
        "id": "pb505HFA-_WF"
      },
      "execution_count": null,
      "outputs": []
    },
    {
      "cell_type": "code",
      "source": [
        "training_score=nb_smo.score(xres,yres)\n",
        "print(training_score)\n",
        "testing_score=nb_smo.score(xtest,ytest)\n",
        "print(testing_score)"
      ],
      "metadata": {
        "id": "5HtUGdtD_XjV"
      },
      "execution_count": null,
      "outputs": []
    },
    {
      "cell_type": "markdown",
      "source": [
        "**HYPER TUNING**"
      ],
      "metadata": {
        "id": "4Qu20rbn8hpO"
      }
    },
    {
      "cell_type": "code",
      "source": [
        "# ====== HYPERPARAMETER TUNING WITH RANDOMIZED SEARCH ======\n",
        "nb_model1 = GaussianNB()\n",
        "\n",
        "# Define hyperparameter search space\n",
        "param_dist = {\n",
        "    \"var_smoothing\": uniform(1e-9, 1e-2)  # Smoothing parameter\n",
        "}\n",
        "\n",
        "# Perform Randomized Search\n",
        "random_g = RandomizedSearchCV(\n",
        "    nb_model1, param_distributions=param_dist,\n",
        "    n_iter=10, scoring='accuracy',\n",
        "    cv=5, random_state=42, n_jobs=-1\n",
        ")\n",
        "random_g.fit(xtrain, ytrain)\n",
        "\n",
        "# Print best hyperparameters\n",
        "print(\"Best Hyperparameters:\", random_g.best_params_)\n",
        "print(\"Best Score:\", random_g.best_score_)"
      ],
      "metadata": {
        "id": "nWumraoN_fuD"
      },
      "execution_count": null,
      "outputs": []
    },
    {
      "cell_type": "code",
      "source": [
        "# Train GaussianNB with best hyperparameters\n",
        "nb_model_hy = GaussianNB(var_smoothing=0.009507144064099162)\n"
      ],
      "metadata": {
        "id": "GNejJWr7_nFb"
      },
      "execution_count": null,
      "outputs": []
    },
    {
      "cell_type": "code",
      "source": [
        "nb_model_hy.fit(xtrain, ytrain)\n",
        "# Predictions\n",
        "ypred_b = nb_model_hy.predict(xtest)\n",
        "\n",
        "# Evaluation\n",
        "acc_hy1 = accuracy_score(ytest, ypred_b)\n",
        "print(acc_hy1)\n",
        "\n",
        "cl_hy = classification_report(ytest, ypred_b)\n",
        "print(cl_hy)\n"
      ],
      "metadata": {
        "id": "LZfPErEF_v6N"
      },
      "execution_count": null,
      "outputs": []
    },
    {
      "cell_type": "code",
      "source": [
        "# Training & Testing Scores\n",
        "training_score = nb_model_hy.score(xtrain, ytrain)\n",
        "print(training_score)\n",
        "testing_score = nb_model_hy.score(xtest, ytest)\n",
        "print(testing_score)"
      ],
      "metadata": {
        "id": "Q-U72XvI_3Pt"
      },
      "execution_count": null,
      "outputs": []
    },
    {
      "cell_type": "markdown",
      "source": [
        "\n",
        "\n",
        "---\n",
        "\n",
        "# **DECISION TREE CLASSIFIRE**\n",
        "\n",
        "---\n",
        "\n"
      ],
      "metadata": {
        "id": "-9vZA0TNXn6w"
      }
    },
    {
      "cell_type": "markdown",
      "source": [
        "**BEFORE SMOTE**"
      ],
      "metadata": {
        "id": "pHMTd5lP-TIr"
      }
    },
    {
      "cell_type": "code",
      "source": [
        "# Initialize Decision Tree model\n",
        "dt_model = DecisionTreeClassifier()\n",
        "dt_model.fit(xtrain, ytrain)\n",
        "\n",
        "# Predictions\n",
        "dt_preds = dt_model.predict(xtest)\n",
        "\n",
        "# Evaluation\n",
        "dt_acc = accuracy_score(ytest, dt_preds)\n",
        "dt_classification_report = classification_report(ytest, dt_preds)\n",
        "dt_confusion_matrix = confusion_matrix(ytest, dt_preds)\n",
        "\n",
        "print(\"Decision Tree Accuracy:\", dt_acc)\n",
        "print(\"Decision Tree Classification Report:\\n\", dt_classification_report)\n",
        "print(\"Decision Tree Confusion Matrix:\\n\", dt_confusion_matrix)"
      ],
      "metadata": {
        "id": "tN7ItT-ZY_D6"
      },
      "execution_count": null,
      "outputs": []
    },
    {
      "cell_type": "code",
      "source": [
        "training_score = dt_model.score(xtrain, ytrain)\n",
        "print(training_score)\n",
        "testing_score = dt_model.score(xtest, ytest)\n",
        "print(testing_score)"
      ],
      "metadata": {
        "id": "JW9Tm67nZPTQ"
      },
      "execution_count": null,
      "outputs": []
    },
    {
      "cell_type": "markdown",
      "source": [
        "**BEFORE SMOTE**"
      ],
      "metadata": {
        "id": "amDpj1Yl-TN6"
      }
    },
    {
      "cell_type": "code",
      "source": [
        "smote = SMOTE(random_state=42)\n",
        "xres, yres = smote.fit_resample(xtrain, ytrain)\n",
        "\n",
        "dt_smo = DecisionTreeClassifier()\n",
        "dt_smo.fit(xres, yres)\n",
        "\n",
        "dt_preds_sm = dt_smo.predict(xtest)\n",
        "\n",
        "acc_dt = accuracy_score(ytest, dt_preds_sm)\n",
        "classification_report_dt = classification_report(ytest, dt_preds_sm)\n",
        "confusion_matrix_dt = confusion_matrix(ytest, dt_preds_sm)\n",
        "\n",
        "print(\"Decision Tree Accuracy:\", acc_dt)\n",
        "print(\"Decision Tree Classification Report:\\n\", classification_report_dt)\n",
        "print(\"Decision Tree Confusion Matrix:\\n\", confusion_matrix_dt)"
      ],
      "metadata": {
        "id": "sH_uqqV5ZZJ7"
      },
      "execution_count": null,
      "outputs": []
    },
    {
      "cell_type": "markdown",
      "source": [
        "**HYPER TUNING**"
      ],
      "metadata": {
        "id": "pW-l4xTE8j9V"
      }
    },
    {
      "cell_type": "code",
      "source": [
        "dt = DecisionTreeClassifier()\n",
        "\n",
        "param_dist = {\n",
        "    \"criterion\": [\"gini\", \"entropy\"],\n",
        "    \"max_depth\": randint(3, 50),\n",
        "    \"min_samples_split\": randint(2, 20),\n",
        "    \"min_samples_leaf\": randint(1, 10),\n",
        "    \"max_features\": [\"sqrt\", \"log2\", None]\n",
        "}\n",
        "\n",
        "random_search1 = RandomizedSearchCV(dt, param_dist, n_iter=20, cv=5, scoring=\"accuracy\", random_state=42)\n",
        "random_search1.fit(xtrain, ytrain)\n",
        "\n",
        "print(random_search1.best_params_)"
      ],
      "metadata": {
        "id": "xc3hhMJaZr4b"
      },
      "execution_count": null,
      "outputs": []
    },
    {
      "cell_type": "code",
      "source": [
        "dt_hy=DecisionTreeClassifier(criterion= 'gini', max_depth= 11, max_features= None, min_samples_leaf= 2, min_samples_split= 5)"
      ],
      "metadata": {
        "id": "DVXNJXOLZ-_X"
      },
      "execution_count": null,
      "outputs": []
    },
    {
      "cell_type": "code",
      "source": [
        "dt_hy.fit(xtrain,ytrain)\n",
        "\n",
        "ypred_c=dt_hy.predict(xtest)\n",
        "\n",
        "acc_hy=accuracy_score(ytest,ypred_c)\n",
        "print(acc_hy)\n",
        "\n",
        "cl_hy=classification_report(ytest,ypred_c)\n",
        "print(cl_hy)\n",
        "\n",
        "cn_hy=confusion_matrix(ytest,ypred_c)\n",
        "print(cn_hy)"
      ],
      "metadata": {
        "id": "G8BqsYXqalPv"
      },
      "execution_count": null,
      "outputs": []
    },
    {
      "cell_type": "code",
      "source": [
        "training_score=dt_hy.score(xtrain,ytrain)\n",
        "print(training_score)\n",
        "testing_score=dt_hy.score(xtest,ytest)\n",
        "print(testing_score)"
      ],
      "metadata": {
        "id": "W7OtSMRbaqss"
      },
      "execution_count": null,
      "outputs": []
    },
    {
      "cell_type": "markdown",
      "source": [
        "\n",
        "\n",
        "---\n",
        "\n",
        "# **ADABOOST**\n",
        "\n",
        "---\n",
        "\n"
      ],
      "metadata": {
        "id": "muA7cWOray4P"
      }
    },
    {
      "cell_type": "markdown",
      "source": [
        "**BEFORE SMOTE**"
      ],
      "metadata": {
        "id": "Jrr5UjQyZmi3"
      }
    },
    {
      "cell_type": "code",
      "source": [
        "base_estimator = DecisionTreeClassifier()\n",
        "adaboost_model = AdaBoostClassifier(estimator=base_estimator, n_estimators=50, random_state=42)\n",
        "adaboost_model.fit(xtrain, ytrain)\n",
        "\n",
        "# Predictions\n",
        "adaboost_preds = adaboost_model.predict(xtest)\n",
        "\n",
        "# Evaluation\n",
        "adaboost_acc = accuracy_score(ytest, adaboost_preds)\n",
        "adaboost_classification_report = classification_report(ytest, adaboost_preds)\n",
        "adaboost_confusion_matrix = confusion_matrix(ytest, adaboost_preds)\n",
        "\n",
        "print(\"AdaBoost Accuracy:\", adaboost_acc)\n",
        "print(\"AdaBoost Classification Report:\\n\", adaboost_classification_report)\n",
        "print(\"AdaBoost Confusion Matrix:\\n\", adaboost_confusion_matrix)"
      ],
      "metadata": {
        "id": "D3ZxvoAeKykZ"
      },
      "execution_count": null,
      "outputs": []
    },
    {
      "cell_type": "code",
      "source": [
        "training_score = adaboost_model.score(xtrain, ytrain)\n",
        "print(training_score)\n",
        "testing_score = adaboost_model.score(xtest, ytest)\n",
        "print(testing_score)"
      ],
      "metadata": {
        "id": "c-WXMJabLO9A"
      },
      "execution_count": null,
      "outputs": []
    },
    {
      "cell_type": "markdown",
      "source": [
        "**AFTER SMOTE**"
      ],
      "metadata": {
        "id": "e2AuTDLN-IAr"
      }
    },
    {
      "cell_type": "code",
      "source": [
        "base_estimator = DecisionTreeClassifier()\n",
        "adaboost_smo = AdaBoostClassifier(estimator=base_estimator, n_estimators=50, random_state=42)\n",
        "adaboost_smo.fit(xres,yres)\n",
        "\n",
        "adaboost_preds_sm = adaboost_smo.predict(xtest)\n",
        "\n",
        "acc_ada = accuracy_score(ytest, adaboost_preds_sm)\n",
        "classification_report_ada = classification_report(ytest, adaboost_preds_sm)\n",
        "confusion_matrix_ada = confusion_matrix(ytest, adaboost_preds_sm)\n",
        "\n",
        "print(\"AdaBoost Accuracy:\", acc_ada)\n",
        "print(\"AdaBoost Classification Report:\\n\", classification_report_ada)\n",
        "print(\"AdaBoost Confusion Matrix:\\n\", confusion_matrix_ada)"
      ],
      "metadata": {
        "id": "fmRna_g5LT7_"
      },
      "execution_count": null,
      "outputs": []
    },
    {
      "cell_type": "code",
      "source": [
        "training_score=adaboost_smo.score(xres,yres)\n",
        "print(training_score)\n",
        "testing_score=adaboost_smo.score(xtest,ytest)\n",
        "print(testing_score)"
      ],
      "metadata": {
        "id": "i-WAZLRuLT5o"
      },
      "execution_count": null,
      "outputs": []
    },
    {
      "cell_type": "markdown",
      "source": [
        "**HYPER TUNING**"
      ],
      "metadata": {
        "id": "1bRAz6thZhjX"
      }
    },
    {
      "cell_type": "code",
      "source": [
        "adaboost = AdaBoostClassifier(estimator=DecisionTreeClassifier(), random_state=42)\n",
        "param_dist_adaboost = {\n",
        "    'n_estimators': [50, 100, 150],\n",
        "    'learning_rate': [0.01, 0.1, 0.2],\n",
        "    'estimator__max_depth': randint(1, 10)\n",
        "}\n",
        "\n",
        "random_search_adaboost = RandomizedSearchCV(estimator=adaboost, param_distributions=param_dist_adaboost,\n",
        "                                            scoring='accuracy', cv=5, verbose=1, n_jobs=-1, n_iter=10, random_state=42)\n",
        "random_search_adaboost.fit(xtrain, ytrain)\n",
        "print(\"Best Hyperparameters (AdaBoost):\\n\", random_search_adaboost.best_params_)"
      ],
      "metadata": {
        "id": "UxHO_rXbLpco"
      },
      "execution_count": null,
      "outputs": []
    },
    {
      "cell_type": "code",
      "source": [
        "adaboost_hy=AdaBoostClassifier(n_estimators= 100, learning_rate= 0.1)\n",
        "adaboost_hy.fit(xtrain,ytrain)"
      ],
      "metadata": {
        "id": "mov3YskgNlFf",
        "collapsed": true
      },
      "execution_count": null,
      "outputs": []
    },
    {
      "cell_type": "code",
      "source": [
        "ypred_e=adaboost_hy.predict(xtest)\n",
        "\n",
        "acc_hy=accuracy_score(ytest,ypred_e)\n",
        "print(acc_hy)\n",
        "\n",
        "cl_hy=classification_report(ytest,ypred_e)\n",
        "print(cl_hy)\n",
        "\n",
        "cn_hy=confusion_matrix(ytest,ypred_e)\n",
        "print(cn_hy)"
      ],
      "metadata": {
        "id": "DN1W1pklLpaJ"
      },
      "execution_count": null,
      "outputs": []
    },
    {
      "cell_type": "code",
      "source": [
        "training_score=adaboost_hy.score(xtrain,ytrain)\n",
        "print(training_score)\n",
        "testing_score=adaboost_hy.score(xtest,ytest)\n",
        "print(testing_score)"
      ],
      "metadata": {
        "id": "jeUH8wukMGFP"
      },
      "execution_count": null,
      "outputs": []
    },
    {
      "cell_type": "markdown",
      "source": [
        "\n",
        "\n",
        "---\n",
        "\n",
        "# **XGBOOST**\n",
        "\n",
        "---\n",
        "\n"
      ],
      "metadata": {
        "id": "WpDohUrSMQ5x"
      }
    },
    {
      "cell_type": "markdown",
      "source": [
        "**BEFORE SMOTE**"
      ],
      "metadata": {
        "id": "duX6vZfOZmnx"
      }
    },
    {
      "cell_type": "code",
      "source": [
        "xgb=XGBClassifier(n_estimators=50, max_depth=3, learning_rate=0.1, random_state=42)\n",
        "xgb.fit(xtrain,ytrain)\n",
        "\n",
        "ypred_x=xgb.predict(xtest)\n",
        "\n",
        "acc=accuracy_score(ytest,ypred_x)\n",
        "print(acc)\n",
        "\n",
        "cl=classification_report(ytest,ypred_x)\n",
        "print(cl)\n",
        "\n",
        "cn=confusion_matrix(ytest,ypred_x)\n",
        "print(cn)"
      ],
      "metadata": {
        "id": "7NlPrycGMawY"
      },
      "execution_count": null,
      "outputs": []
    },
    {
      "cell_type": "code",
      "source": [
        "training_score=xgb.score(xtrain,ytrain)\n",
        "print(training_score)\n",
        "testing_score=xgb.score(xtest,ytest)\n",
        "print(testing_score)"
      ],
      "metadata": {
        "id": "8JZohrwwMauh"
      },
      "execution_count": null,
      "outputs": []
    },
    {
      "cell_type": "code",
      "source": [
        "from sklearn.model_selection import cross_val_score\n",
        "\n",
        "cv_scores = cross_val_score(xgb, xtrain, ytrain, cv=5, scoring='accuracy')\n",
        "print(\"Cross-validation scores:\", cv_scores)\n",
        "print(\"Mean CV Score:\", cv_scores.mean())"
      ],
      "metadata": {
        "id": "81TQGKqgMarv"
      },
      "execution_count": null,
      "outputs": []
    },
    {
      "cell_type": "markdown",
      "source": [
        "**AFTER SMOTE**"
      ],
      "metadata": {
        "id": "Ozhsp1Sl-IJr"
      }
    },
    {
      "cell_type": "code",
      "source": [
        "xgb_sm=XGBClassifier(n_estimators=50, max_depth=3, learning_rate=0.1, random_state=42)\n",
        "xgb_sm.fit(xres,yres)\n",
        "\n",
        "ypred_xsm=xgb_sm.predict(xtest)\n",
        "\n",
        "acc=accuracy_score(ytest,ypred_xsm)\n",
        "print(acc)\n",
        "\n",
        "cl=classification_report(ytest,ypred_xsm)\n",
        "print(cl)\n",
        "\n",
        "cn=confusion_matrix(ytest,ypred_xsm)\n",
        "print(cn)"
      ],
      "metadata": {
        "id": "PD10gwo4MbOf"
      },
      "execution_count": null,
      "outputs": []
    },
    {
      "cell_type": "code",
      "source": [
        "training_score=xgb_sm.score(xres,yres)\n",
        "print(training_score)\n",
        "testing_score=xgb_sm.score(xtest,ytest)\n",
        "print(testing_score)"
      ],
      "metadata": {
        "id": "eoo8Her8MbMX"
      },
      "execution_count": null,
      "outputs": []
    },
    {
      "cell_type": "markdown",
      "source": [
        "**HYPER TUNING**"
      ],
      "metadata": {
        "id": "Su-0e8UPZhuD"
      }
    },
    {
      "cell_type": "code",
      "source": [
        "from sklearn.model_selection import RandomizedSearchCV\n",
        "from xgboost import XGBClassifier\n",
        "import numpy as np\n",
        "xgbx = XGBClassifier(eval_metric='logloss')\n",
        "\n",
        "xgb_param_dist = {\n",
        "    'n_estimators': [50, 100, 200, 500],\n",
        "    'learning_rate': [0.01, 0.1, 0.2, 0.3],\n",
        "    'max_depth': [3, 5, 7, 10],\n",
        "    'min_child_weight': [1, 3, 5],\n",
        "    'subsample': [0.5, 0.7, 1.0],\n",
        "    'colsample_bytree': [0.5, 0.7, 1.0],\n",
        "    'gamma': [0, 0.1, 0.2, 0.3]\n",
        "}\n",
        "\n",
        "\n",
        "random_xgb =  RandomizedSearchCV(xgbx, param_distributions=xgb_param_dist,\n",
        "    n_iter=20, cv=5, scoring='accuracy',\n",
        "    verbose=2, n_jobs=-1, random_state=42)\n",
        "\n",
        "random_xgb.fit(xtrain, ytrain)\n",
        "print(\"Best Hyperparameters:\\n\", random_xgb.best_params_)"
      ],
      "metadata": {
        "id": "7vUjW1O2Mb5m"
      },
      "execution_count": null,
      "outputs": []
    },
    {
      "cell_type": "code",
      "source": [
        "from sklearn.metrics import accuracy_score, classification_report, confusion_matrix\n",
        "xgb_hy=XGBClassifier(subsample= 0.7, n_estimators= 500, min_child_weight= 1, max_depth= 10, learning_rate=0.03,gamma=0.1, colsample_bytree= 1.0)\n"
      ],
      "metadata": {
        "id": "qsv_z0QoMb2-"
      },
      "execution_count": null,
      "outputs": []
    },
    {
      "cell_type": "code",
      "source": [
        "xgb_hy.fit(xtrain,ytrain)\n",
        "\n",
        "ypred_d=xgb_hy.predict(xtest)\n",
        "\n",
        "acc_hy=accuracy_score(ytest,ypred_d)\n",
        "print(acc_hy)\n",
        "\n",
        "cl_hy=classification_report(ytest,ypred_d)\n",
        "print(cl_hy)\n",
        "\n",
        "cn_hy=confusion_matrix(ytest,ypred_d)\n",
        "print(cn_hy)"
      ],
      "metadata": {
        "id": "AtzyXiEBMb0f"
      },
      "execution_count": null,
      "outputs": []
    },
    {
      "cell_type": "code",
      "source": [
        "training_score=xgb_hy.score(xtrain,ytrain)\n",
        "print(training_score)\n",
        "testing_score=xgb_hy.score(xtest,ytest)\n",
        "print(testing_score)"
      ],
      "metadata": {
        "id": "46avNr5ENwlk"
      },
      "execution_count": null,
      "outputs": []
    },
    {
      "cell_type": "code",
      "source": [
        "from sklearn.model_selection import cross_val_score\n",
        "\n",
        "cv_scores = cross_val_score(xgb_hy, xtrain, ytrain, cv=5, scoring='accuracy')\n",
        "print(\"Cross-validation scores:\", cv_scores)\n",
        "print(\"Mean CV Score:\", cv_scores.mean())"
      ],
      "metadata": {
        "id": "wM_1bOg9Nwi9"
      },
      "execution_count": null,
      "outputs": []
    },
    {
      "cell_type": "code",
      "source": [],
      "metadata": {
        "id": "Xr534jqa-SW8"
      },
      "execution_count": null,
      "outputs": []
    },
    {
      "cell_type": "code",
      "source": [
        "import pickle\n",
        "with open(\"best_model.pkl\", \"wb\") as file:\n",
        "    pickle.dump(rf, file)"
      ],
      "metadata": {
        "id": "jKQwPy4Q-SUn"
      },
      "execution_count": null,
      "outputs": []
    },
    {
      "cell_type": "code",
      "source": [
        "with open(\"best_model.pkl\", \"rb\") as file:\n",
        "    loaded_model = pickle.load(file)\n",
        "    prediction = loaded_model.predict(new_data)"
      ],
      "metadata": {
        "id": "OArvG8Gg-SSC"
      },
      "execution_count": null,
      "outputs": []
    }
  ]
}